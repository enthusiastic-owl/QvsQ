{
 "cells": [
  {
   "cell_type": "code",
   "execution_count": 1,
   "metadata": {},
   "outputs": [],
   "source": [
    "import numpy as np\n",
    "import random\n",
    "import time\n",
    "import operator"
   ]
  },
  {
   "cell_type": "code",
   "execution_count": 2,
   "metadata": {},
   "outputs": [],
   "source": [
    "GL_MUTATION_RATE = 30\n",
    "GL_POPULATION_SIZE = 1500\n",
    "GL_FITNESS_THRESHOLD = 3"
   ]
  },
  {
   "cell_type": "code",
   "execution_count": 3,
   "metadata": {},
   "outputs": [],
   "source": [
    "class Genome():\n",
    "    chromosomes = []\n",
    "    fitness = 99"
   ]
  },
  {
   "cell_type": "code",
   "execution_count": 4,
   "metadata": {},
   "outputs": [],
   "source": [
    "class GenAlgoOf8QueenProbSolver():\n",
    "    def __init__(self):\n",
    "        self.population = []\n",
    "        self.generation = 0\n",
    "        self.result = None\n",
    "\n",
    "    def CreateInitPopulation(self, size):\n",
    "        for x in range(size):\n",
    "            newGenome = Genome()\n",
    "            newGenome.chromosomes = random.sample(range(0, 8), 8)\n",
    "            newGenome.fitness = self.Evaluate(newGenome.chromosomes)\n",
    "            self.population.append(newGenome)\n",
    "\n",
    "    def BuildTheChessBoard(self, chromo):\n",
    "        chessboard = np.zeros((8, 8), dtype=int)\n",
    "        for i in range(8):\n",
    "            y = chromo[i]\n",
    "            chessboard[y][i] = 1\n",
    "        return chessboard\n",
    "\n",
    "    \n",
    "    def Evaluate(self, chromosomes):\n",
    "        chessboard = self.BuildTheChessBoard(chromosomes)\n",
    "        calculated_fitness = 0\n",
    "\n",
    "        # Horizontal Control\n",
    "        for i in range(8):\n",
    "            count = np.count_nonzero(chessboard[i])\n",
    "            if count > 1:\n",
    "                calculated_fitness += count - 1\n",
    "\n",
    "        # Cross Control\n",
    "        for y in range(8):\n",
    "            count = 0\n",
    "            for x in range(8):\n",
    "                if chessboard[x + y, x] == 1:\n",
    "                    count += 1\n",
    "                if (x + y) >= 7:\n",
    "                    break\n",
    "            if count > 1:\n",
    "                calculated_fitness += count - 1\n",
    "\n",
    "        for y in range(1, 8):\n",
    "            count = 0\n",
    "            for x in range(8):\n",
    "                if chessboard[x, x + y] == 1:\n",
    "                    count += 1\n",
    "                if (x + y) >= 7:\n",
    "                    break\n",
    "            if count > 1:\n",
    "                calculated_fitness += count - 1\n",
    "\n",
    "        for y in range(0, 8):\n",
    "            count = 0\n",
    "            for x in range(0, 8):\n",
    "                if chessboard[y + x, 7 - x] == 1:\n",
    "                    count += 1\n",
    "                if (y + x) >= 7:\n",
    "                    break\n",
    "            if count > 1:\n",
    "                calculated_fitness += count - 1\n",
    "\n",
    "        for y in range(0, 8):\n",
    "            count = 0\n",
    "            for x in range(0, 7 - y):\n",
    "                if chessboard[x, (6 - y) - x] == 1:\n",
    "                    count += 1\n",
    "                if (x) >= 7:\n",
    "                    break\n",
    "            if count > 1:\n",
    "                calculated_fitness += count - 1\n",
    "\n",
    "        return calculated_fitness\n",
    "\n",
    "    def RouletteWheelSelection(self):\n",
    "        max = sum(genom.fitness for genom in self.population)\n",
    "        pick = random.uniform(0, max)\n",
    "        current = 0\n",
    "        for genom in self.population:\n",
    "            current += genom.fitness\n",
    "            if current > pick:\n",
    "                return genom\n",
    "\n",
    "    def SinglePointCrossover(self):\n",
    "        parent1 = self.RouletteWheelSelection().chromosomes\n",
    "        parent2 = self.population[random.randrange(0, len(self.population))].chromosomes\n",
    "\n",
    "        point = random.randint(2, 6)\n",
    "        child = Genome()\n",
    "        child.chromosomes = parent1[0:point]\n",
    "        child.chromosomes.extend(parent2[point:8])\n",
    "        child.fitness = self.Evaluate(child.chromosomes)\n",
    "\n",
    "        if random.randrange(0, 100) < GL_MUTATION_RATE:\n",
    "            self.Mutation(child.chromosomes)\n",
    "        else:\n",
    "            self.population.append(child)\n",
    "\n",
    "    def Mutation(self, chromo):\n",
    "        chromo[random.randrange(0, 8)] = random.randrange(0, 8)\n",
    "        newGenome = Genome()\n",
    "        newGenome.chromosomes = chromo\n",
    "        newGenome.fitness = self.Evaluate(newGenome.chromosomes)\n",
    "        self.population.append(newGenome)\n",
    "\n",
    "    def RemoveWeakness(self):\n",
    "        for genom in self.population:\n",
    "            if genom.fitness > GL_FITNESS_THRESHOLD:\n",
    "                self.population.remove(genom)\n",
    "\n",
    "    def ControlResult(self):\n",
    "        for genom in self.population:\n",
    "            if(genom.fitness < 1):\n",
    "                self.result = genom.chromosomes\n",
    "\n",
    "    def Start(self):\n",
    "        # if result not found - reset and try again\n",
    "        while self.result is None:\n",
    "            self.population = []\n",
    "            self.generation = 0\n",
    "\n",
    "            self.CreateInitPopulation(GL_POPULATION_SIZE)\n",
    "            print(\"--:New Population Created:--\")\n",
    "            while self.generation < 30 and self.result is None:\n",
    "\n",
    "                for x in range(int(len(self.population) / 2)):\n",
    "                    self.SinglePointCrossover()\n",
    "\n",
    "                self.RemoveWeakness()\n",
    "                self.ControlResult()\n",
    "                self.generation += 1\n",
    "                print(\"POPULATION =\", len(self.population), \"GENERATION =\", self.generation)\n",
    "\n",
    "        print(self.result)\n"
   ]
  },
  {
   "cell_type": "code",
   "execution_count": 5,
   "metadata": {},
   "outputs": [
    {
     "name": "stdout",
     "output_type": "stream",
     "text": [
      "--:New Population Created:--\n",
      "POPULATION = 1292 GENERATION = 1\n",
      "[3, 6, 4, 1, 5, 0, 2, 7]\n"
     ]
    }
   ],
   "source": [
    "GenAlgoOf8QueenProbSolver().Start()"
   ]
  },
  {
   "cell_type": "code",
   "execution_count": 6,
   "metadata": {},
   "outputs": [
    {
     "name": "stdout",
     "output_type": "stream",
     "text": [
      "{\"No Of Attempts lapsed out of 3\": 1, \"submittedConfiguration\": [3, 6, 4, 1, 5, 0, 2, 7], \"configurationStatus\": \"Valid\", \"configurationScore\": 100.0}\n"
     ]
    }
   ],
   "source": [
    "import requests\n",
    "url='https://lf8q0kx152.execute-api.us-east-2.amazonaws.com/default/computeFitnessScore'\n",
    "x=requests.post(url,json={\"qconfig\": \"3 6 4 1 5 0 2 7\",\"userID\":277541,\"githubLink\":\"https://github.com/enthusiastic-owl/QvsQ\"})\n",
    "print(x.text)"
   ]
  },
  {
   "cell_type": "code",
   "execution_count": null,
   "metadata": {},
   "outputs": [],
   "source": []
  }
 ],
 "metadata": {
  "kernelspec": {
   "display_name": "Python 3",
   "language": "python",
   "name": "python3"
  },
  "language_info": {
   "codemirror_mode": {
    "name": "ipython",
    "version": 3
   },
   "file_extension": ".py",
   "mimetype": "text/x-python",
   "name": "python",
   "nbconvert_exporter": "python",
   "pygments_lexer": "ipython3",
   "version": "3.7.6"
  }
 },
 "nbformat": 4,
 "nbformat_minor": 4
}
